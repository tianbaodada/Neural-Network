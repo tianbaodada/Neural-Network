{
 "cells": [
  {
   "cell_type": "code",
   "execution_count": 1,
   "metadata": {},
   "outputs": [
    {
     "name": "stderr",
     "output_type": "stream",
     "text": [
      "Using TensorFlow backend.\n"
     ]
    }
   ],
   "source": [
    "import time # 引入time\n",
    "import matplotlib.pyplot as plt\n",
    "import numpy as np\n",
    "\n",
    "from keras.datasets import mnist\n",
    "from keras.utils import np_utils\n",
    "from dense import Dense\n",
    "from convolutional import Convolutional\n",
    "from maxpool2d import Maxpool2d\n",
    "from reshape import Reshape\n",
    "from activations import Sigmoid, Tanh, Relu, Softmax\n",
    "from losses import binary_cross_entropy, binary_cross_entropy_prime\n",
    "from network import train, predict, save_network, load_network\n",
    "\n",
    "def preprocess_data(x, y, limit):\n",
    "    # zero_index = np.where(y == 0)[0][:limit]\n",
    "    # one_index = np.where(y == 1)[0][:limit]\n",
    "    all_indices = np.hstack(list(np.where(y == x)[0][:limit] for x in range(10)))\n",
    "    all_indices = np.random.permutation(all_indices)\n",
    "    x, y = x[all_indices], y[all_indices]\n",
    "    x = x.reshape(len(x), 1, 28, 28)\n",
    "    x = x.astype(\"float32\") / 255\n",
    "    y = np_utils.to_categorical(y)\n",
    "    y = y.reshape(len(y), 10, 1)\n",
    "    return x, y\n",
    "\n",
    "# load MNIST from server, limit to 100 images per class since we're not training on GPU\n",
    "(x_train, y_train), (x_test, y_test) = mnist.load_data()\n",
    "x_train, y_train = preprocess_data(x_train, y_train, 100)\n",
    "x_valid, y_valid = x_train[900:], y_train[900:]\n",
    "x_train, y_train = x_train[:900], y_train[:900]\n",
    "x_test, y_test = preprocess_data(x_test, y_test, 100)\n",
    "\n",
    "# nowTime = int(time.time()) # 取得現在時間\n",
    "# struct_time = time.localtime(nowTime) # 轉換成時間元組\n",
    "# timeString = time.strftime(\"%m%d%I%M%S\", struct_time) # 將時間元組轉換成想要的字串\n",
    "# print(timeString)\n",
    "\n",
    "l2 = 1e-1\n",
    "learning_rate = 3e-2\n",
    "\n",
    "# neural network\n",
    "network = [\n",
    "    Convolutional((1, 28, 28), 5, 20, l2=l2),\n",
    "    Maxpool2d(0, 2, 2),\n",
    "    Tanh(),\n",
    "    Reshape((20, 12, 12), (20 * 12 * 12, 1)),\n",
    "    Dense(20 * 12 * 12, 100, l2=l2),\n",
    "    Tanh(),\n",
    "    Dense(100, 10, l2=l2),\n",
    "    Softmax()\n",
    "]\n",
    "\n",
    "net_id = '1121071336'\n",
    "load_network(network, net_id)\n"
   ]
  },
  {
   "cell_type": "code",
   "execution_count": 6,
   "metadata": {},
   "outputs": [
    {
     "name": "stdout",
     "output_type": "stream",
     "text": [
      "[[0.0087469 ]\n",
      " [0.13206027]\n",
      " [0.05482804]\n",
      " [0.11968563]\n",
      " [0.05115404]\n",
      " [0.06693868]\n",
      " [0.04856423]\n",
      " [0.12924765]\n",
      " [0.07940086]\n",
      " [0.30937369]]\n",
      "[[0.]\n",
      " [0.]\n",
      " [0.]\n",
      " [0.]\n",
      " [0.]\n",
      " [0.]\n",
      " [0.]\n",
      " [1.]\n",
      " [0.]\n",
      " [0.]]\n"
     ]
    }
   ],
   "source": [
    "pred_res = [int(np.argmax(predict(network, x)) == np.argmax(y)) for x,y in zip(x_test, y_test)]\n",
    "# acc = sum(pred_res)/len(pred_res)\n",
    "# print(f\"test accuracy: {acc}\")\n",
    "\n",
    "x, y = x_test[0], y_test[0]\n",
    "y_pred = predict(network, x)\n",
    "print(y_pred)\n",
    "print(y)"
   ]
  },
  {
   "cell_type": "code",
   "execution_count": null,
   "metadata": {},
   "outputs": [],
   "source": []
  }
 ],
 "metadata": {
  "interpreter": {
   "hash": "af2ceb44aa90688c2930d6dd4501aa1bcab715860e6ec9fd29767ccc9bf88175"
  },
  "kernelspec": {
   "display_name": "Python 3.8.12 64-bit ('DeepLearning': conda)",
   "language": "python",
   "name": "python3"
  },
  "language_info": {
   "codemirror_mode": {
    "name": "ipython",
    "version": 3
   },
   "file_extension": ".py",
   "mimetype": "text/x-python",
   "name": "python",
   "nbconvert_exporter": "python",
   "pygments_lexer": "ipython3",
   "version": "3.7.11"
  },
  "orig_nbformat": 4
 },
 "nbformat": 4,
 "nbformat_minor": 2
}
